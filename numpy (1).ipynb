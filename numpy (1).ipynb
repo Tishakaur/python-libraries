{
 "cells": [
  {
   "cell_type": "code",
   "execution_count": null,
   "id": "a2202552",
   "metadata": {},
   "outputs": [],
   "source": [
    "import numpy as np"
   ]
  },
  {
   "cell_type": "code",
   "execution_count": null,
   "id": "83efb6d4",
   "metadata": {},
   "outputs": [],
   "source": [
    "Ar = np.array([12,34,4])                            # Display given array\n",
    "print(Ar)"
   ]
  },
  {
   "cell_type": "code",
   "execution_count": null,
   "id": "49cb56d0",
   "metadata": {},
   "outputs": [],
   "source": [
    "print(Ar.dtype)                                    # Datatype of an array"
   ]
  },
  {
   "cell_type": "code",
   "execution_count": null,
   "id": "d70d3cbd",
   "metadata": {},
   "outputs": [],
   "source": [
    "print(Ar.size)                                    # size of an array"
   ]
  },
  {
   "cell_type": "code",
   "execution_count": null,
   "id": "bdd5a65e",
   "metadata": {},
   "outputs": [],
   "source": [
    "A = np.array((23,45,36))\n",
    "print(A)"
   ]
  },
  {
   "cell_type": "code",
   "execution_count": null,
   "id": "7526b5b6",
   "metadata": {},
   "outputs": [],
   "source": [
    "print(Ar.ravel())                                 # reshape an array into 1D array"
   ]
  },
  {
   "cell_type": "code",
   "execution_count": null,
   "id": "fcaa1052",
   "metadata": {},
   "outputs": [],
   "source": [
    "rng = np.arange(22)                              # arange attribute \n",
    "print(rng)"
   ]
  },
  {
   "cell_type": "code",
   "execution_count": null,
   "id": "3dc4e818",
   "metadata": {
    "scrolled": true
   },
   "outputs": [],
   "source": [
    "B = np.linspace(9,10,5)                         # linespace attribute\n",
    "print(B)"
   ]
  },
  {
   "cell_type": "code",
   "execution_count": null,
   "id": "32a2060c",
   "metadata": {},
   "outputs": [],
   "source": [
    "zeros = np.zeros((8,9))                          # create an array of zeros of given shape \n",
    "print(zeros)"
   ]
  },
  {
   "cell_type": "code",
   "execution_count": null,
   "id": "fad88954",
   "metadata": {},
   "outputs": [],
   "source": [
    "print(zeros.shape)                               # shape of an array "
   ]
  },
  {
   "cell_type": "code",
   "execution_count": null,
   "id": "2e2a6cb7",
   "metadata": {},
   "outputs": [],
   "source": [
    "print(zeros.size)                              # size of an array"
   ]
  },
  {
   "cell_type": "code",
   "execution_count": null,
   "id": "1bca039e",
   "metadata": {
    "scrolled": true
   },
   "outputs": [],
   "source": [
    "emp_arr = np.empty((9,7))                      # an array of random elements\n",
    "print(emp_arr) "
   ]
  },
  {
   "cell_type": "code",
   "execution_count": null,
   "id": "144cf1fb",
   "metadata": {},
   "outputs": [],
   "source": [
    "ide_arr = np.identity(11)                             # identity matrix\n",
    "print(ide_arr)"
   ]
  },
  {
   "cell_type": "code",
   "execution_count": null,
   "id": "730fd603",
   "metadata": {},
   "outputs": [],
   "source": [
    "print(ide_arr.shape)"
   ]
  },
  {
   "cell_type": "code",
   "execution_count": null,
   "id": "06c070d0",
   "metadata": {},
   "outputs": [],
   "source": [
    "print(ide_arr.size)"
   ]
  },
  {
   "cell_type": "code",
   "execution_count": null,
   "id": "e2840d3e",
   "metadata": {},
   "outputs": [],
   "source": [
    "print(ide_arr.dtype)"
   ]
  },
  {
   "cell_type": "code",
   "execution_count": null,
   "id": "1a677e50",
   "metadata": {},
   "outputs": [],
   "source": [
    "Array = np.arange(78)\n",
    "print(Array)"
   ]
  },
  {
   "cell_type": "code",
   "execution_count": null,
   "id": "986be267",
   "metadata": {},
   "outputs": [],
   "source": [
    "XYZ = [[12,3,4],[2,56,89],[9,9,3]]                               # multdimension array\n",
    "arr = np.array(XYZ)\n",
    "print(arr)"
   ]
  },
  {
   "cell_type": "code",
   "execution_count": null,
   "id": "163299be",
   "metadata": {},
   "outputs": [],
   "source": [
    "sum = arr.sum(axis=0)                                            # sum along columns\n",
    "print(sum)"
   ]
  },
  {
   "cell_type": "code",
   "execution_count": null,
   "id": "c6525b5c",
   "metadata": {},
   "outputs": [],
   "source": [
    "sum = arr.sum(axis=1)                                           # sum along rows\n",
    "print(sum)"
   ]
  },
  {
   "cell_type": "code",
   "execution_count": null,
   "id": "b6109bbe",
   "metadata": {},
   "outputs": [],
   "source": [
    "TP = arr.T                                                     # transpose of an array\n",
    "print(TP)"
   ]
  },
  {
   "cell_type": "code",
   "execution_count": null,
   "id": "faed2865",
   "metadata": {},
   "outputs": [],
   "source": [
    "for item in arr.flat:print(item)"
   ]
  },
  {
   "cell_type": "code",
   "execution_count": null,
   "id": "58479fec",
   "metadata": {},
   "outputs": [],
   "source": [
    "Dim = arr.ndim                                                  # dimensions \n",
    "print(Dim)"
   ]
  },
  {
   "cell_type": "code",
   "execution_count": null,
   "id": "fbffbc4d",
   "metadata": {},
   "outputs": [],
   "source": [
    "BS = arr.nbytes                                               # overall bytes consumed\n",
    "print(BS)"
   ]
  },
  {
   "cell_type": "code",
   "execution_count": null,
   "id": "c77be247",
   "metadata": {},
   "outputs": [],
   "source": [
    "SEQ = np.array([23,67,90,45])                                # position of largest element         \n",
    "print(SEQ.argmax())"
   ]
  },
  {
   "cell_type": "code",
   "execution_count": null,
   "id": "41ec0d36",
   "metadata": {},
   "outputs": [],
   "source": [
    "print(SEQ.argmin())                                          # position of smallest element"
   ]
  },
  {
   "cell_type": "code",
   "execution_count": null,
   "id": "822206a9",
   "metadata": {},
   "outputs": [],
   "source": [
    "print(SEQ.argsort())                                       # sort the element in ascending order"
   ]
  },
  {
   "cell_type": "code",
   "execution_count": null,
   "id": "4e20b872",
   "metadata": {},
   "outputs": [],
   "source": [
    "AB= ([12,34,67],[34,60,23])                                # addition of given matrices\n",
    "BC = ([23,45,1],[65,32,34])     \n",
    "print(AB + BC)"
   ]
  },
  {
   "cell_type": "code",
   "execution_count": null,
   "id": "ace10157",
   "metadata": {},
   "outputs": [],
   "source": [
    "print(np.sqrt(Arr))                                         # square root of individual elements in an array"
   ]
  },
  {
   "cell_type": "code",
   "execution_count": null,
   "id": "652a959b",
   "metadata": {},
   "outputs": [],
   "source": [
    "print(np.count_nonzero(Arr))                                 # counts non-zero elements"
   ]
  },
  {
   "cell_type": "code",
   "execution_count": null,
   "id": "c25e6e09",
   "metadata": {},
   "outputs": [],
   "source": [
    "print(np.nonzero(Arr))                                        # positions of non-zero elements"
   ]
  }
 ],
 "metadata": {
  "kernelspec": {
   "display_name": "Python 3 (ipykernel)",
   "language": "python",
   "name": "python3"
  },
  "language_info": {
   "codemirror_mode": {
    "name": "ipython",
    "version": 3
   },
   "file_extension": ".py",
   "mimetype": "text/x-python",
   "name": "python",
   "nbconvert_exporter": "python",
   "pygments_lexer": "ipython3",
   "version": "3.11.5"
  }
 },
 "nbformat": 4,
 "nbformat_minor": 5
}
